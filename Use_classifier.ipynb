{
 "cells": [
  {
   "cell_type": "code",
   "execution_count": 5,
   "id": "controlling-classification",
   "metadata": {},
   "outputs": [],
   "source": []
  },
  {
   "cell_type": "code",
   "execution_count": 2,
   "id": "enabling-desire",
   "metadata": {},
   "outputs": [],
   "source": [
    "# Opening the classifier\n",
    "\n",
    "import pickle\n",
    "\n",
    "classifier_f = open(\"naivebayes.pickle\", \"rb\")\n",
    "classifier = pickle.load(classifier_f)\n",
    "classifier_f.close()"
   ]
  },
  {
   "cell_type": "code",
   "execution_count": null,
   "id": "hungarian-aruba",
   "metadata": {},
   "outputs": [],
   "source": [
    "#Using the classifier\n",
    "\n",
    "test = input('Skriv en sætning: \\n')\n",
    "\n",
    "if (classifier.predict([test])) == 1:\n",
    "    print(\"\\nThat's racist!! Buuuh!\")\n",
    "else:\n",
    "    print('\\nSo nice!')"
   ]
  },
  {
   "cell_type": "code",
   "execution_count": null,
   "id": "excessive-salmon",
   "metadata": {},
   "outputs": [],
   "source": []
  }
 ],
 "metadata": {
  "kernelspec": {
   "display_name": "Python 3",
   "language": "python",
   "name": "python3"
  },
  "language_info": {
   "codemirror_mode": {
    "name": "ipython",
    "version": 3
   },
   "file_extension": ".py",
   "mimetype": "text/x-python",
   "name": "python",
   "nbconvert_exporter": "python",
   "pygments_lexer": "ipython3",
   "version": "3.9.1"
  }
 },
 "nbformat": 4,
 "nbformat_minor": 5
}
