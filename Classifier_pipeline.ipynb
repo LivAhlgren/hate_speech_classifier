{
 "cells": [
  {
   "cell_type": "markdown",
   "id": "refined-company",
   "metadata": {},
   "source": [
    "## Classifying hate speech"
   ]
  },
  {
   "cell_type": "markdown",
   "id": "protective-blogger",
   "metadata": {},
   "source": [
    "This is our text classification model.\n",
    "The text is converted to n-grams with TF-IDF scores.\n",
    "The number of n-grams and the number of features to include can be changed.\n",
    "The statistical models to be used are Naïve Bayes, Linear Support Vector Models and Random Forest\n",
    "\n",
    "The model is created trough a pipeline. In this way, we can access the non-vectorized texts"
   ]
  },
  {
   "cell_type": "code",
   "execution_count": null,
   "id": "double-money",
   "metadata": {},
   "outputs": [],
   "source": [
    "# Import things we need\n",
    "\n",
    "#!pip install nltk\n",
    "#!pip install pandas\n",
    "\n",
    "import numpy as np\n",
    "import nltk\n",
    "from numpy.random import RandomState\n",
    "import pickle\n",
    "import pandas as pd\n",
    "\n",
    "from sklearn.feature_extraction.text import TfidfVectorizer\n",
    "from sklearn.pipeline import Pipeline\n",
    "from sklearn.model_selection import train_test_split\n",
    "from sklearn.metrics import classification_report, confusion_matrix, accuracy_score\n",
    "\n",
    "from sklearn.svm import LinearSVC\n",
    "from sklearn.naive_bayes import MultinomialNB\n",
    "from sklearn.ensemble import RandomForestClassifier"
   ]
  },
  {
   "cell_type": "markdown",
   "id": "split-track",
   "metadata": {},
   "source": [
    "## Load and split data"
   ]
  },
  {
   "cell_type": "code",
   "execution_count": null,
   "id": "abandoned-vanilla",
   "metadata": {},
   "outputs": [],
   "source": [
    "# Load data as a DataFrame. \n",
    "\n",
    "# Our data is ordered like this: \"#1This is a hate speech text \\n #2This is not hate speech \\n\"\n",
    "# In this way we get a column with 'Type' and a column with 'Entry'\n",
    "# We split at \"#\" to get type 1 and 2 (HS and non-HS)\n",
    "\n",
    "data_hs = pd.read_csv('data.txt', delimiter = \"#\", header = None, names = [\"Type\", \"Entry\"])\n",
    "\n",
    "data_hs = data_hs.dropna() #drop the NaN's\n",
    "\n",
    "#display(data_hs)"
   ]
  },
  {
   "cell_type": "code",
   "execution_count": null,
   "id": "earned-study",
   "metadata": {},
   "outputs": [],
   "source": [
    "# Split the data into train and test set\n",
    "# We set a random_state so that the data is split the same way everytime we run this code\n",
    "# Test_size = 0.2 means that we have 80% training and 20% testing\n",
    "\n",
    "X_train, X_test, y_train, y_test = train_test_split(data_hs['Entry'], data_hs['Type'], random_state = 10, test_size=0.2)"
   ]
  },
  {
   "cell_type": "markdown",
   "id": "ethical-aaron",
   "metadata": {},
   "source": [
    "## Create and test model"
   ]
  },
  {
   "cell_type": "code",
   "execution_count": null,
   "id": "linear-uzbekistan",
   "metadata": {
    "scrolled": true
   },
   "outputs": [],
   "source": [
    "#Create the model\n",
    "\n",
    "# ngram_range defines that we want unigrams, bigrams and trigrams.\n",
    "# max_features means that we want the n best features. \n",
    "# min_df = n means that features are only chosen if they are in n or more documents. \n",
    "# max_df = 0.7 means that we only take features that occur in 70% of the texts. (This is not included)\n",
    "# All of the above features can be changed\n",
    "\n",
    "# Choose the statistical model you want\n",
    "\n",
    "pipeline_1 = Pipeline([('vect', TfidfVectorizer(ngram_range=(1, 3), max_features=10000, min_df=5)), \n",
    "                     ('clf', MultinomialNB())]) \n",
    "                     #('clf', LinearSVC())]) \n",
    "                     #('clf', RandomForestClassifier())]) \n",
    "\n",
    "# Fit the model\n",
    "model = pipeline_1.fit(X_train, y_train)\n",
    "\n",
    "# Print accuracy score\n",
    "print(\"accuracy score: \" + str(model.score(X_test, y_test)))"
   ]
  },
  {
   "cell_type": "code",
   "execution_count": null,
   "id": "terminal-starter",
   "metadata": {},
   "outputs": [],
   "source": [
    "# Get precision, recall and F1\n",
    "\n",
    "y_pred = model.predict(X_test)\n",
    "\n",
    "print(confusion_matrix(y_test,y_pred))\n",
    "print(classification_report(y_test,y_pred))\n",
    "print(accuracy_score(y_test, y_pred))"
   ]
  },
  {
   "cell_type": "markdown",
   "id": "crude-orleans",
   "metadata": {},
   "source": [
    "## Most predictive features"
   ]
  },
  {
   "cell_type": "code",
   "execution_count": null,
   "id": "improving-fifth",
   "metadata": {},
   "outputs": [],
   "source": [
    "# Prepare data for getting the best features - access the unvectorized n-grams\n",
    "\n",
    "vectorizer = model.named_steps['vect']\n",
    "clf = model.named_steps['clf']\n",
    "\n",
    "feature_names = vectorizer.get_feature_names()\n",
    "feature_names = np.asarray(feature_names)"
   ]
  },
  {
   "cell_type": "code",
   "execution_count": null,
   "id": "computational-range",
   "metadata": {},
   "outputs": [],
   "source": [
    "# Get most predictive features\n",
    "\n",
    "N = 15 # How many features do you want?\n",
    "\n",
    "HS_list = []\n",
    "NONHS_list = []\n",
    "\n",
    "# Most predictive for hate speech\n",
    "HStop = np.argsort(clf.coef_[0])[:N]\n",
    "print('Best feature names:', ', '.join(feature_names[HStop]))\n",
    "for i in feature_names[HStop]:\n",
    "    HS_list.append(i)\n",
    "\n",
    "# Least predictive features for hate speech (not so interesting though)\n",
    "#NONHStop = np.argsort(clf.coef_[0])[-N:]\n",
    "#print('\\nBest feature names:', ', '.join(feature_names[NONHStop]))\n",
    "#for i in feature_names[NONHStop]:\n",
    "#    NONHS_list.append(i)\n",
    "    \n",
    "#Make a dataframe\n",
    "df = pd.DataFrame()\n",
    "df['Hate speech']  = HS_list\n",
    "#df['Non-hate speech'] = NONHS_list\n",
    "\n",
    "display(df)"
   ]
  },
  {
   "cell_type": "markdown",
   "id": "killing-announcement",
   "metadata": {},
   "source": [
    "## Show misclassifications"
   ]
  },
  {
   "cell_type": "code",
   "execution_count": null,
   "id": "possible-house",
   "metadata": {},
   "outputs": [],
   "source": [
    "# Show all misclassifications\n",
    "\n",
    "misclass = []\n",
    "\n",
    "for item, label in zip(X_test, y_test):\n",
    "    result = model.predict([item])\n",
    "    if result != label:\n",
    "        mis = (\"PREDICTED = %s, TRUE = %s\" % (result, label), item)\n",
    "        misclass.append(mis)\n",
    "        \n",
    "#print(misclass)"
   ]
  },
  {
   "cell_type": "code",
   "execution_count": null,
   "id": "agreed-colony",
   "metadata": {},
   "outputs": [],
   "source": [
    "#Sort misclassifications into two lists\n",
    "\n",
    "mis_HS = []\n",
    "mis_NONHS = []\n",
    "\n",
    "for item, label in zip(X_test, y_test):\n",
    "    result = model.predict([item])\n",
    "    if result != label:\n",
    "        if result == 1:\n",
    "            mis_HS.append(item)\n",
    "        if result == 2:\n",
    "            mis_NONHS.append(item)\n",
    "\n",
    "print(len(mis_HS))\n",
    "print(len(mis_NONHS))"
   ]
  },
  {
   "cell_type": "code",
   "execution_count": null,
   "id": "invalid-script",
   "metadata": {},
   "outputs": [],
   "source": [
    "#Save the two lists as .txt files\n",
    "\n",
    "with open('misclass_as_HS.txt','w') as output:\n",
    "    output.write('MISCLASSIFIED AS HATE SPEECH:\\n')\n",
    "    for line in mis_HS:\n",
    "        output.write(line)\n",
    "        output.write('\\n')\n",
    "\n",
    "with open('misclass_as_NONHS.txt','w') as output:\n",
    "    output.write('MISCLASSIFIED AS NON-HATE SPEECH:\\n')\n",
    "    for line in mis_NONHS:\n",
    "        output.write(line)\n",
    "        output.write('\\n')\n",
    "\n",
    "print('Done!')"
   ]
  },
  {
   "cell_type": "markdown",
   "id": "dress-haven",
   "metadata": {},
   "source": [
    "## Try model, save model"
   ]
  },
  {
   "cell_type": "code",
   "execution_count": null,
   "id": "veterinary-stand",
   "metadata": {},
   "outputs": [],
   "source": [
    "# Here we can try the model\n",
    "\n",
    "test = input('Write a sentence: \\n')\n",
    "\n",
    "if model.predict([test]) == 1:\n",
    "    print('Buuh! Hate speech!')\n",
    "else:\n",
    "    print('So nice! Have a great day!')"
   ]
  },
  {
   "cell_type": "code",
   "execution_count": null,
   "id": "manufactured-feedback",
   "metadata": {},
   "outputs": [],
   "source": [
    "# Saving the model\n",
    "\n",
    "with open('classifier', 'wb') as picklefile:\n",
    "    pickle.dump(model,picklefile)\n",
    "    \n",
    "# To open it later:\n",
    "#with open('classifier_SVM', 'rb') as training_model:\n",
    "#    model = pickle.load(training_model)"
   ]
  },
  {
   "cell_type": "code",
   "execution_count": null,
   "id": "focused-princess",
   "metadata": {},
   "outputs": [],
   "source": []
  }
 ],
 "metadata": {
  "kernelspec": {
   "display_name": "Python 3",
   "language": "python",
   "name": "python3"
  },
  "language_info": {
   "codemirror_mode": {
    "name": "ipython",
    "version": 3
   },
   "file_extension": ".py",
   "mimetype": "text/x-python",
   "name": "python",
   "nbconvert_exporter": "python",
   "pygments_lexer": "ipython3",
   "version": "3.9.1"
  }
 },
 "nbformat": 4,
 "nbformat_minor": 5
}
