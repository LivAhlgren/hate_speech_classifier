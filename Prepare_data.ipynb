{
 "cells": [
  {
   "cell_type": "markdown",
   "id": "silver-alloy",
   "metadata": {},
   "source": [
    "# Preparing our data"
   ]
  },
  {
   "cell_type": "markdown",
   "id": "female-illinois",
   "metadata": {},
   "source": [
    "This is the code for preparing our data to go into the model.\n",
    "\n",
    "We need to lowercase words that are not fully capitalized. \n",
    "\n",
    "We need to mark the data as either HS or NON_HS. \n",
    "\n",
    "We need to put the data into the same file."
   ]
  },
  {
   "cell_type": "code",
   "execution_count": null,
   "id": "fundamental-crawford",
   "metadata": {},
   "outputs": [],
   "source": [
    "# Make a list of files in the folder, just to make sure you have what you need\n",
    "\n",
    "import glob\n",
    "\n",
    "filenames = glob.glob('*.txt')\n",
    "\n",
    "file_names = []\n",
    "for name in filenames:\n",
    "        file_names.append(name)\n",
    "print(filenames)"
   ]
  },
  {
   "cell_type": "code",
   "execution_count": null,
   "id": "enormous-evening",
   "metadata": {},
   "outputs": [],
   "source": [
    "# A RegEx that can recognize CAPITALIZED and CapiTaliZed words\n",
    "\n",
    "import re\n",
    "def match(text):\n",
    "        pattern = '^[A-ZÆØÅ]*$' # Only words that are fully capitalized\n",
    "        if re.search(pattern, text):\n",
    "            return(text)"
   ]
  },
  {
   "cell_type": "code",
   "execution_count": null,
   "id": "productive-venice",
   "metadata": {},
   "outputs": [],
   "source": [
    "# Open a file and read it\n",
    "# See if any words are halfway capitalized and lowercase those\n",
    "# Put \"#1\" or \"#2\" in the beginning of each line. #1 is hate speech, #2 is non-hate speech\n",
    "# Append averything in the newtext-list\n",
    "\n",
    "newtext = []\n",
    "type_1_str = \"1#\"\n",
    "type_2_str = \"2#\"\n",
    "\n",
    "# For the hate speech data, type 1\n",
    "with open('HS.txt', 'r') as f:\n",
    "    text = f.read()\n",
    "    newline = []\n",
    "    for line in text.split('\\n'):\n",
    "        wordlist = []\n",
    "        for word in line.split():\n",
    "            if word != match(word):\n",
    "                word = word.lower()\n",
    "                wordlist.append(word)\n",
    "            else:\n",
    "                wordlist.append(word)\n",
    "        newline = ' '.join(wordlist)\n",
    "        newline = \"\".join((type_1_str, newline))\n",
    "        newtext.append(newline)\n",
    "\n",
    "# For the non-hate speech data, type 2\n",
    "with open('non-HS.txt', 'r') as f:\n",
    "    text = f.read()\n",
    "    newline = []\n",
    "    for line in text.split('\\n'):\n",
    "        wordlist = []\n",
    "        for word in line.split():\n",
    "            if word != match(word):\n",
    "                word = word.lower()\n",
    "                wordlist.append(word)\n",
    "            else:\n",
    "                wordlist.append(word)\n",
    "        newline = ' '.join(wordlist)\n",
    "        newline = \"\".join((type_2_str, newline))\n",
    "        newtext.append(newline)\n",
    "\n",
    "#print(newtext)"
   ]
  },
  {
   "cell_type": "code",
   "execution_count": null,
   "id": "inappropriate-agreement",
   "metadata": {},
   "outputs": [],
   "source": [
    "# Make the list into a .txt file\n",
    "\n",
    "with open('data.txt','w') as output:\n",
    "    for line in newtext:\n",
    "        output.write(line)\n",
    "        output.write('\\n')"
   ]
  },
  {
   "cell_type": "markdown",
   "id": "vertical-abortion",
   "metadata": {},
   "source": [
    "Now our data is ready for going into the model! :)"
   ]
  },
  {
   "cell_type": "code",
   "execution_count": null,
   "id": "amino-reducing",
   "metadata": {},
   "outputs": [],
   "source": []
  }
 ],
 "metadata": {
  "kernelspec": {
   "display_name": "Python 3",
   "language": "python",
   "name": "python3"
  },
  "language_info": {
   "codemirror_mode": {
    "name": "ipython",
    "version": 3
   },
   "file_extension": ".py",
   "mimetype": "text/x-python",
   "name": "python",
   "nbconvert_exporter": "python",
   "pygments_lexer": "ipython3",
   "version": "3.9.1"
  }
 },
 "nbformat": 4,
 "nbformat_minor": 5
}
