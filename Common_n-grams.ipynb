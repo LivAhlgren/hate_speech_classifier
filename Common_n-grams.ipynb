{
 "cells": [
  {
   "cell_type": "markdown",
   "id": "direct-expression",
   "metadata": {},
   "source": [
    "# Common words in hate speech"
   ]
  },
  {
   "cell_type": "code",
   "execution_count": null,
   "id": "operational-stream",
   "metadata": {},
   "outputs": [],
   "source": [
    "# Read file\n",
    "with open('HS.txt', 'r') as f:\n",
    "    text = f.read()\n",
    "    \n",
    "# Remove punctuation and make lowercase\n",
    "import string\n",
    "text_clean = text.translate(str.maketrans('', '', string.punctuation))\n",
    "text_clean = text_clean.lower()"
   ]
  },
  {
   "cell_type": "code",
   "execution_count": null,
   "id": "hollywood-found",
   "metadata": {},
   "outputs": [],
   "source": [
    "# Remove stop words\n",
    "\n",
    "import nltk\n",
    "from nltk.corpus import stopwords \n",
    "from nltk.tokenize import word_tokenize\n",
    "\n",
    "#print(stopwords.words('danish'))\n",
    "\n",
    "text_tokens = word_tokenize(text_clean)\n",
    "stop_words = set(stopwords.words('danish'))\n",
    "\n",
    "tokens_without_sw = [word for word in text_tokens if not word in stop_words]\n",
    "\n",
    "text_stop = (\" \").join(tokens_without_sw)"
   ]
  },
  {
   "cell_type": "code",
   "execution_count": null,
   "id": "female-invention",
   "metadata": {},
   "outputs": [],
   "source": [
    "# Count unigrams without stopwords\n",
    "\n",
    "from collections import Counter\n",
    "from nltk import ngrams\n",
    "\n",
    "ngram_counts = Counter(ngrams(text_stop.split(), 1))\n",
    "ngram_counts.most_common(20)"
   ]
  },
  {
   "cell_type": "code",
   "execution_count": null,
   "id": "numerical-mozambique",
   "metadata": {},
   "outputs": [],
   "source": [
    "# Count unigrams with stopwords\n",
    "\n",
    "ngram_counts = Counter(ngrams(text_clean.split(), 1))\n",
    "ngram_counts.most_common(15)"
   ]
  },
  {
   "cell_type": "code",
   "execution_count": null,
   "id": "technological-chambers",
   "metadata": {},
   "outputs": [],
   "source": []
  }
 ],
 "metadata": {
  "kernelspec": {
   "display_name": "Python 3",
   "language": "python",
   "name": "python3"
  },
  "language_info": {
   "codemirror_mode": {
    "name": "ipython",
    "version": 3
   },
   "file_extension": ".py",
   "mimetype": "text/x-python",
   "name": "python",
   "nbconvert_exporter": "python",
   "pygments_lexer": "ipython3",
   "version": "3.9.1"
  }
 },
 "nbformat": 4,
 "nbformat_minor": 5
}
